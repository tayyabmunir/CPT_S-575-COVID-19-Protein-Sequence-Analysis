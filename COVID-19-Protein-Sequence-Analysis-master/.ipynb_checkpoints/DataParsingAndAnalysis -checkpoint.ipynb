{
 "cells": [
  {
   "cell_type": "code",
   "execution_count": 62,
   "metadata": {},
   "outputs": [],
   "source": [
    "import pandas as pd\n",
    "import numpy as np\n",
    "import matplotlib.pyplot as plt"
   ]
  },
  {
   "cell_type": "code",
   "execution_count": 143,
   "metadata": {},
   "outputs": [],
   "source": [
    "seq_df = pd.read_csv(\"data/sequencesData-JanToMarch.csv\")"
   ]
  },
  {
   "cell_type": "code",
   "execution_count": 144,
   "metadata": {},
   "outputs": [
    {
     "data": {
      "text/html": [
       "<div>\n",
       "<style scoped>\n",
       "    .dataframe tbody tr th:only-of-type {\n",
       "        vertical-align: middle;\n",
       "    }\n",
       "\n",
       "    .dataframe tbody tr th {\n",
       "        vertical-align: top;\n",
       "    }\n",
       "\n",
       "    .dataframe thead th {\n",
       "        text-align: right;\n",
       "    }\n",
       "</style>\n",
       "<table border=\"1\" class=\"dataframe\">\n",
       "  <thead>\n",
       "    <tr style=\"text-align: right;\">\n",
       "      <th></th>\n",
       "      <th>Accession</th>\n",
       "      <th>SRA_Accession</th>\n",
       "      <th>Release_Date</th>\n",
       "      <th>Species</th>\n",
       "      <th>Genus</th>\n",
       "      <th>Family</th>\n",
       "      <th>Length</th>\n",
       "      <th>Sequence_Type</th>\n",
       "      <th>Nuc_Completeness</th>\n",
       "      <th>Genotype</th>\n",
       "      <th>Segment</th>\n",
       "      <th>Authors</th>\n",
       "      <th>Publications</th>\n",
       "      <th>Geo_Location</th>\n",
       "      <th>USA</th>\n",
       "      <th>Host</th>\n",
       "      <th>Isolation_Source</th>\n",
       "      <th>Collection_Date</th>\n",
       "      <th>BioSample</th>\n",
       "      <th>GenBank_Title</th>\n",
       "    </tr>\n",
       "  </thead>\n",
       "  <tbody>\n",
       "    <tr>\n",
       "      <th>0</th>\n",
       "      <td>MT233526</td>\n",
       "      <td>SRR11409417,SRR11393704</td>\n",
       "      <td>2020-03-26T00:00:00Z</td>\n",
       "      <td>Severe acute respiratory syndrome-related coro...</td>\n",
       "      <td>Betacoronavirus</td>\n",
       "      <td>Coronaviridae</td>\n",
       "      <td>29847</td>\n",
       "      <td>GenBank</td>\n",
       "      <td>complete</td>\n",
       "      <td>NaN</td>\n",
       "      <td>NaN</td>\n",
       "      <td>Thornburg,N., Bradford,R., Rashid,S., Flores,B...</td>\n",
       "      <td>NaN</td>\n",
       "      <td>USA: WA</td>\n",
       "      <td>WA</td>\n",
       "      <td>Homo sapiens</td>\n",
       "      <td>oronasopharynx</td>\n",
       "      <td>1/19/2020</td>\n",
       "      <td>SAMN14384141</td>\n",
       "      <td>Severe acute respiratory syndrome coronavirus ...</td>\n",
       "    </tr>\n",
       "    <tr>\n",
       "      <th>1</th>\n",
       "      <td>MT246667</td>\n",
       "      <td>SRR11409417,SRR11393704</td>\n",
       "      <td>2020-03-26T00:00:00Z</td>\n",
       "      <td>Severe acute respiratory syndrome-related coro...</td>\n",
       "      <td>Betacoronavirus</td>\n",
       "      <td>Coronaviridae</td>\n",
       "      <td>29867</td>\n",
       "      <td>GenBank</td>\n",
       "      <td>complete</td>\n",
       "      <td>NaN</td>\n",
       "      <td>NaN</td>\n",
       "      <td>Thornburg,N., Bradford,R., Rashid,S., Flores,B...</td>\n",
       "      <td>NaN</td>\n",
       "      <td>USA: WA</td>\n",
       "      <td>WA</td>\n",
       "      <td>Homo sapiens</td>\n",
       "      <td>oronasopharynx</td>\n",
       "      <td>1/19/2020</td>\n",
       "      <td>SAMN14384141</td>\n",
       "      <td>Severe acute respiratory syndrome coronavirus ...</td>\n",
       "    </tr>\n",
       "    <tr>\n",
       "      <th>2</th>\n",
       "      <td>MT106052</td>\n",
       "      <td>NaN</td>\n",
       "      <td>2020-02-24T00:00:00Z</td>\n",
       "      <td>Severe acute respiratory syndrome-related coro...</td>\n",
       "      <td>Betacoronavirus</td>\n",
       "      <td>Coronaviridae</td>\n",
       "      <td>29882</td>\n",
       "      <td>GenBank</td>\n",
       "      <td>complete</td>\n",
       "      <td>NaN</td>\n",
       "      <td>NaN</td>\n",
       "      <td>Queen,K., Uehara,A., Zhang,J., Li,Y., Tao,Y., ...</td>\n",
       "      <td>NaN</td>\n",
       "      <td>USA: CA</td>\n",
       "      <td>CA</td>\n",
       "      <td>Homo sapiens</td>\n",
       "      <td>oronasopharynx</td>\n",
       "      <td>2/6/2020</td>\n",
       "      <td>NaN</td>\n",
       "      <td>Severe acute respiratory syndrome coronavirus ...</td>\n",
       "    </tr>\n",
       "    <tr>\n",
       "      <th>3</th>\n",
       "      <td>MT106053</td>\n",
       "      <td>NaN</td>\n",
       "      <td>2020-02-24T00:00:00Z</td>\n",
       "      <td>Severe acute respiratory syndrome-related coro...</td>\n",
       "      <td>Betacoronavirus</td>\n",
       "      <td>Coronaviridae</td>\n",
       "      <td>29882</td>\n",
       "      <td>GenBank</td>\n",
       "      <td>complete</td>\n",
       "      <td>NaN</td>\n",
       "      <td>NaN</td>\n",
       "      <td>Queen,K., Uehara,A., Zhang,J., Li,Y., Tao,Y., ...</td>\n",
       "      <td>NaN</td>\n",
       "      <td>USA: CA</td>\n",
       "      <td>CA</td>\n",
       "      <td>Homo sapiens</td>\n",
       "      <td>oronasopharynx</td>\n",
       "      <td>2/10/2020</td>\n",
       "      <td>NaN</td>\n",
       "      <td>Severe acute respiratory syndrome coronavirus ...</td>\n",
       "    </tr>\n",
       "    <tr>\n",
       "      <th>4</th>\n",
       "      <td>MT044258</td>\n",
       "      <td>NaN</td>\n",
       "      <td>2020-02-12T00:00:00Z</td>\n",
       "      <td>Severe acute respiratory syndrome-related coro...</td>\n",
       "      <td>Betacoronavirus</td>\n",
       "      <td>Coronaviridae</td>\n",
       "      <td>29858</td>\n",
       "      <td>GenBank</td>\n",
       "      <td>complete</td>\n",
       "      <td>NaN</td>\n",
       "      <td>NaN</td>\n",
       "      <td>Zhang,J., Queen,K., Li,Y., Tao,Y., Uehara,A., ...</td>\n",
       "      <td>NaN</td>\n",
       "      <td>USA: CA</td>\n",
       "      <td>CA</td>\n",
       "      <td>Homo sapiens</td>\n",
       "      <td>oronasopharynx</td>\n",
       "      <td>1/27/2020</td>\n",
       "      <td>NaN</td>\n",
       "      <td>Severe acute respiratory syndrome coronavirus ...</td>\n",
       "    </tr>\n",
       "    <tr>\n",
       "      <th>5</th>\n",
       "      <td>MT039887</td>\n",
       "      <td>NaN</td>\n",
       "      <td>2020-02-11T00:00:00Z</td>\n",
       "      <td>Severe acute respiratory syndrome-related coro...</td>\n",
       "      <td>Betacoronavirus</td>\n",
       "      <td>Coronaviridae</td>\n",
       "      <td>29879</td>\n",
       "      <td>GenBank</td>\n",
       "      <td>complete</td>\n",
       "      <td>NaN</td>\n",
       "      <td>NaN</td>\n",
       "      <td>Zhang,J., Uehara,A., Queen,K., Li,Y., Tao,Y., ...</td>\n",
       "      <td>NaN</td>\n",
       "      <td>USA: WI</td>\n",
       "      <td>WI</td>\n",
       "      <td>Homo sapiens</td>\n",
       "      <td>oronasopharynx</td>\n",
       "      <td>1/31/2020</td>\n",
       "      <td>NaN</td>\n",
       "      <td>Severe acute respiratory syndrome coronavirus ...</td>\n",
       "    </tr>\n",
       "    <tr>\n",
       "      <th>6</th>\n",
       "      <td>MT039888</td>\n",
       "      <td>NaN</td>\n",
       "      <td>2020-02-11T00:00:00Z</td>\n",
       "      <td>Severe acute respiratory syndrome-related coro...</td>\n",
       "      <td>Betacoronavirus</td>\n",
       "      <td>Coronaviridae</td>\n",
       "      <td>29882</td>\n",
       "      <td>GenBank</td>\n",
       "      <td>complete</td>\n",
       "      <td>NaN</td>\n",
       "      <td>NaN</td>\n",
       "      <td>Paden,C.R., Zhang,J., Queen,K., Li,Y., Tao,Y.,...</td>\n",
       "      <td>NaN</td>\n",
       "      <td>USA: MA</td>\n",
       "      <td>MA</td>\n",
       "      <td>Homo sapiens</td>\n",
       "      <td>oronasopharynx</td>\n",
       "      <td>1/29/2020</td>\n",
       "      <td>NaN</td>\n",
       "      <td>Severe acute respiratory syndrome coronavirus ...</td>\n",
       "    </tr>\n",
       "    <tr>\n",
       "      <th>7</th>\n",
       "      <td>MT027062</td>\n",
       "      <td>NaN</td>\n",
       "      <td>2020-02-07T00:00:00Z</td>\n",
       "      <td>Severe acute respiratory syndrome-related coro...</td>\n",
       "      <td>Betacoronavirus</td>\n",
       "      <td>Coronaviridae</td>\n",
       "      <td>29882</td>\n",
       "      <td>GenBank</td>\n",
       "      <td>complete</td>\n",
       "      <td>NaN</td>\n",
       "      <td>NaN</td>\n",
       "      <td>Queen,K., Zhang,J., Li,Y., Tao,Y., Uehara,A., ...</td>\n",
       "      <td>NaN</td>\n",
       "      <td>USA: CA</td>\n",
       "      <td>CA</td>\n",
       "      <td>Homo sapiens</td>\n",
       "      <td>oronasopharynx</td>\n",
       "      <td>1/29/2020</td>\n",
       "      <td>NaN</td>\n",
       "      <td>Severe acute respiratory syndrome coronavirus ...</td>\n",
       "    </tr>\n",
       "    <tr>\n",
       "      <th>8</th>\n",
       "      <td>MT027063</td>\n",
       "      <td>NaN</td>\n",
       "      <td>2020-02-07T00:00:00Z</td>\n",
       "      <td>Severe acute respiratory syndrome-related coro...</td>\n",
       "      <td>Betacoronavirus</td>\n",
       "      <td>Coronaviridae</td>\n",
       "      <td>29882</td>\n",
       "      <td>GenBank</td>\n",
       "      <td>complete</td>\n",
       "      <td>NaN</td>\n",
       "      <td>NaN</td>\n",
       "      <td>Queen,K., Zhang,J., Li,Y., Tao,Y., Uehara,A., ...</td>\n",
       "      <td>NaN</td>\n",
       "      <td>USA: CA</td>\n",
       "      <td>CA</td>\n",
       "      <td>Homo sapiens</td>\n",
       "      <td>oronasopharynx</td>\n",
       "      <td>1/29/2020</td>\n",
       "      <td>NaN</td>\n",
       "      <td>Severe acute respiratory syndrome coronavirus ...</td>\n",
       "    </tr>\n",
       "    <tr>\n",
       "      <th>9</th>\n",
       "      <td>MT027064</td>\n",
       "      <td>NaN</td>\n",
       "      <td>2020-02-07T00:00:00Z</td>\n",
       "      <td>Severe acute respiratory syndrome-related coro...</td>\n",
       "      <td>Betacoronavirus</td>\n",
       "      <td>Coronaviridae</td>\n",
       "      <td>29882</td>\n",
       "      <td>GenBank</td>\n",
       "      <td>complete</td>\n",
       "      <td>NaN</td>\n",
       "      <td>NaN</td>\n",
       "      <td>Tao,Y., Queen,K., Zhang,J., Li,Y., Uehara,A., ...</td>\n",
       "      <td>NaN</td>\n",
       "      <td>USA: CA</td>\n",
       "      <td>CA</td>\n",
       "      <td>Homo sapiens</td>\n",
       "      <td>oronasopharynx</td>\n",
       "      <td>1/29/2020</td>\n",
       "      <td>NaN</td>\n",
       "      <td>Severe acute respiratory syndrome coronavirus ...</td>\n",
       "    </tr>\n",
       "    <tr>\n",
       "      <th>10</th>\n",
       "      <td>MT020880</td>\n",
       "      <td>NaN</td>\n",
       "      <td>2020-02-05T00:00:00Z</td>\n",
       "      <td>Severe acute respiratory syndrome-related coro...</td>\n",
       "      <td>Betacoronavirus</td>\n",
       "      <td>Coronaviridae</td>\n",
       "      <td>29882</td>\n",
       "      <td>GenBank</td>\n",
       "      <td>complete</td>\n",
       "      <td>NaN</td>\n",
       "      <td>NaN</td>\n",
       "      <td>Queen,K., Tamin,A., Harcourt,J., Tao,Y., Paden...</td>\n",
       "      <td>NaN</td>\n",
       "      <td>USA: WA</td>\n",
       "      <td>WA</td>\n",
       "      <td>Homo sapiens</td>\n",
       "      <td>oronasopharynx</td>\n",
       "      <td>1/25/2020</td>\n",
       "      <td>NaN</td>\n",
       "      <td>Severe acute respiratory syndrome coronavirus ...</td>\n",
       "    </tr>\n",
       "    <tr>\n",
       "      <th>11</th>\n",
       "      <td>MT020881</td>\n",
       "      <td>NaN</td>\n",
       "      <td>2020-02-05T00:00:00Z</td>\n",
       "      <td>Severe acute respiratory syndrome-related coro...</td>\n",
       "      <td>Betacoronavirus</td>\n",
       "      <td>Coronaviridae</td>\n",
       "      <td>29882</td>\n",
       "      <td>GenBank</td>\n",
       "      <td>complete</td>\n",
       "      <td>NaN</td>\n",
       "      <td>NaN</td>\n",
       "      <td>Queen,K., Tamin,A., Harcourt,J., Tao,Y., Paden...</td>\n",
       "      <td>NaN</td>\n",
       "      <td>USA: WA</td>\n",
       "      <td>WA</td>\n",
       "      <td>Homo sapiens</td>\n",
       "      <td>oronasopharynx</td>\n",
       "      <td>1/25/2020</td>\n",
       "      <td>NaN</td>\n",
       "      <td>Severe acute respiratory syndrome coronavirus ...</td>\n",
       "    </tr>\n",
       "    <tr>\n",
       "      <th>12</th>\n",
       "      <td>MN994467</td>\n",
       "      <td>NaN</td>\n",
       "      <td>2020-01-28T00:00:00Z</td>\n",
       "      <td>Severe acute respiratory syndrome-related coro...</td>\n",
       "      <td>Betacoronavirus</td>\n",
       "      <td>Coronaviridae</td>\n",
       "      <td>29882</td>\n",
       "      <td>GenBank</td>\n",
       "      <td>complete</td>\n",
       "      <td>NaN</td>\n",
       "      <td>NaN</td>\n",
       "      <td>Uehara,A., Queen,K., Tao,Y., Li,Y., Paden,C.R....</td>\n",
       "      <td>NaN</td>\n",
       "      <td>USA: CA</td>\n",
       "      <td>CA</td>\n",
       "      <td>Homo sapiens</td>\n",
       "      <td>oronasopharynx</td>\n",
       "      <td>1/23/2020</td>\n",
       "      <td>NaN</td>\n",
       "      <td>Severe acute respiratory syndrome coronavirus ...</td>\n",
       "    </tr>\n",
       "    <tr>\n",
       "      <th>13</th>\n",
       "      <td>MN994468</td>\n",
       "      <td>NaN</td>\n",
       "      <td>2020-01-28T00:00:00Z</td>\n",
       "      <td>Severe acute respiratory syndrome-related coro...</td>\n",
       "      <td>Betacoronavirus</td>\n",
       "      <td>Coronaviridae</td>\n",
       "      <td>29883</td>\n",
       "      <td>GenBank</td>\n",
       "      <td>complete</td>\n",
       "      <td>NaN</td>\n",
       "      <td>NaN</td>\n",
       "      <td>Uehara,A., Queen,K., Tao,Y., Li,Y., Paden,C.R....</td>\n",
       "      <td>NaN</td>\n",
       "      <td>USA: CA</td>\n",
       "      <td>CA</td>\n",
       "      <td>Homo sapiens</td>\n",
       "      <td>oronasopharynx</td>\n",
       "      <td>1/22/2020</td>\n",
       "      <td>NaN</td>\n",
       "      <td>Severe acute respiratory syndrome coronavirus ...</td>\n",
       "    </tr>\n",
       "  </tbody>\n",
       "</table>\n",
       "</div>"
      ],
      "text/plain": [
       "   Accession            SRA_Accession          Release_Date  \\\n",
       "0   MT233526  SRR11409417,SRR11393704  2020-03-26T00:00:00Z   \n",
       "1   MT246667  SRR11409417,SRR11393704  2020-03-26T00:00:00Z   \n",
       "2   MT106052                      NaN  2020-02-24T00:00:00Z   \n",
       "3   MT106053                      NaN  2020-02-24T00:00:00Z   \n",
       "4   MT044258                      NaN  2020-02-12T00:00:00Z   \n",
       "5   MT039887                      NaN  2020-02-11T00:00:00Z   \n",
       "6   MT039888                      NaN  2020-02-11T00:00:00Z   \n",
       "7   MT027062                      NaN  2020-02-07T00:00:00Z   \n",
       "8   MT027063                      NaN  2020-02-07T00:00:00Z   \n",
       "9   MT027064                      NaN  2020-02-07T00:00:00Z   \n",
       "10  MT020880                      NaN  2020-02-05T00:00:00Z   \n",
       "11  MT020881                      NaN  2020-02-05T00:00:00Z   \n",
       "12  MN994467                      NaN  2020-01-28T00:00:00Z   \n",
       "13  MN994468                      NaN  2020-01-28T00:00:00Z   \n",
       "\n",
       "                                              Species            Genus  \\\n",
       "0   Severe acute respiratory syndrome-related coro...  Betacoronavirus   \n",
       "1   Severe acute respiratory syndrome-related coro...  Betacoronavirus   \n",
       "2   Severe acute respiratory syndrome-related coro...  Betacoronavirus   \n",
       "3   Severe acute respiratory syndrome-related coro...  Betacoronavirus   \n",
       "4   Severe acute respiratory syndrome-related coro...  Betacoronavirus   \n",
       "5   Severe acute respiratory syndrome-related coro...  Betacoronavirus   \n",
       "6   Severe acute respiratory syndrome-related coro...  Betacoronavirus   \n",
       "7   Severe acute respiratory syndrome-related coro...  Betacoronavirus   \n",
       "8   Severe acute respiratory syndrome-related coro...  Betacoronavirus   \n",
       "9   Severe acute respiratory syndrome-related coro...  Betacoronavirus   \n",
       "10  Severe acute respiratory syndrome-related coro...  Betacoronavirus   \n",
       "11  Severe acute respiratory syndrome-related coro...  Betacoronavirus   \n",
       "12  Severe acute respiratory syndrome-related coro...  Betacoronavirus   \n",
       "13  Severe acute respiratory syndrome-related coro...  Betacoronavirus   \n",
       "\n",
       "           Family  Length Sequence_Type Nuc_Completeness  Genotype  Segment  \\\n",
       "0   Coronaviridae   29847       GenBank         complete       NaN      NaN   \n",
       "1   Coronaviridae   29867       GenBank         complete       NaN      NaN   \n",
       "2   Coronaviridae   29882       GenBank         complete       NaN      NaN   \n",
       "3   Coronaviridae   29882       GenBank         complete       NaN      NaN   \n",
       "4   Coronaviridae   29858       GenBank         complete       NaN      NaN   \n",
       "5   Coronaviridae   29879       GenBank         complete       NaN      NaN   \n",
       "6   Coronaviridae   29882       GenBank         complete       NaN      NaN   \n",
       "7   Coronaviridae   29882       GenBank         complete       NaN      NaN   \n",
       "8   Coronaviridae   29882       GenBank         complete       NaN      NaN   \n",
       "9   Coronaviridae   29882       GenBank         complete       NaN      NaN   \n",
       "10  Coronaviridae   29882       GenBank         complete       NaN      NaN   \n",
       "11  Coronaviridae   29882       GenBank         complete       NaN      NaN   \n",
       "12  Coronaviridae   29882       GenBank         complete       NaN      NaN   \n",
       "13  Coronaviridae   29883       GenBank         complete       NaN      NaN   \n",
       "\n",
       "                                              Authors  Publications  \\\n",
       "0   Thornburg,N., Bradford,R., Rashid,S., Flores,B...           NaN   \n",
       "1   Thornburg,N., Bradford,R., Rashid,S., Flores,B...           NaN   \n",
       "2   Queen,K., Uehara,A., Zhang,J., Li,Y., Tao,Y., ...           NaN   \n",
       "3   Queen,K., Uehara,A., Zhang,J., Li,Y., Tao,Y., ...           NaN   \n",
       "4   Zhang,J., Queen,K., Li,Y., Tao,Y., Uehara,A., ...           NaN   \n",
       "5   Zhang,J., Uehara,A., Queen,K., Li,Y., Tao,Y., ...           NaN   \n",
       "6   Paden,C.R., Zhang,J., Queen,K., Li,Y., Tao,Y.,...           NaN   \n",
       "7   Queen,K., Zhang,J., Li,Y., Tao,Y., Uehara,A., ...           NaN   \n",
       "8   Queen,K., Zhang,J., Li,Y., Tao,Y., Uehara,A., ...           NaN   \n",
       "9   Tao,Y., Queen,K., Zhang,J., Li,Y., Uehara,A., ...           NaN   \n",
       "10  Queen,K., Tamin,A., Harcourt,J., Tao,Y., Paden...           NaN   \n",
       "11  Queen,K., Tamin,A., Harcourt,J., Tao,Y., Paden...           NaN   \n",
       "12  Uehara,A., Queen,K., Tao,Y., Li,Y., Paden,C.R....           NaN   \n",
       "13  Uehara,A., Queen,K., Tao,Y., Li,Y., Paden,C.R....           NaN   \n",
       "\n",
       "   Geo_Location USA          Host Isolation_Source Collection_Date  \\\n",
       "0       USA: WA  WA  Homo sapiens   oronasopharynx       1/19/2020   \n",
       "1       USA: WA  WA  Homo sapiens   oronasopharynx       1/19/2020   \n",
       "2       USA: CA  CA  Homo sapiens   oronasopharynx        2/6/2020   \n",
       "3       USA: CA  CA  Homo sapiens   oronasopharynx       2/10/2020   \n",
       "4       USA: CA  CA  Homo sapiens   oronasopharynx       1/27/2020   \n",
       "5       USA: WI  WI  Homo sapiens   oronasopharynx       1/31/2020   \n",
       "6       USA: MA  MA  Homo sapiens   oronasopharynx       1/29/2020   \n",
       "7       USA: CA  CA  Homo sapiens   oronasopharynx       1/29/2020   \n",
       "8       USA: CA  CA  Homo sapiens   oronasopharynx       1/29/2020   \n",
       "9       USA: CA  CA  Homo sapiens   oronasopharynx       1/29/2020   \n",
       "10      USA: WA  WA  Homo sapiens   oronasopharynx       1/25/2020   \n",
       "11      USA: WA  WA  Homo sapiens   oronasopharynx       1/25/2020   \n",
       "12      USA: CA  CA  Homo sapiens   oronasopharynx       1/23/2020   \n",
       "13      USA: CA  CA  Homo sapiens   oronasopharynx       1/22/2020   \n",
       "\n",
       "       BioSample                                      GenBank_Title  \n",
       "0   SAMN14384141  Severe acute respiratory syndrome coronavirus ...  \n",
       "1   SAMN14384141  Severe acute respiratory syndrome coronavirus ...  \n",
       "2            NaN  Severe acute respiratory syndrome coronavirus ...  \n",
       "3            NaN  Severe acute respiratory syndrome coronavirus ...  \n",
       "4            NaN  Severe acute respiratory syndrome coronavirus ...  \n",
       "5            NaN  Severe acute respiratory syndrome coronavirus ...  \n",
       "6            NaN  Severe acute respiratory syndrome coronavirus ...  \n",
       "7            NaN  Severe acute respiratory syndrome coronavirus ...  \n",
       "8            NaN  Severe acute respiratory syndrome coronavirus ...  \n",
       "9            NaN  Severe acute respiratory syndrome coronavirus ...  \n",
       "10           NaN  Severe acute respiratory syndrome coronavirus ...  \n",
       "11           NaN  Severe acute respiratory syndrome coronavirus ...  \n",
       "12           NaN  Severe acute respiratory syndrome coronavirus ...  \n",
       "13           NaN  Severe acute respiratory syndrome coronavirus ...  "
      ]
     },
     "execution_count": 144,
     "metadata": {},
     "output_type": "execute_result"
    }
   ],
   "source": [
    "seq_df"
   ]
  },
  {
   "cell_type": "code",
   "execution_count": 145,
   "metadata": {},
   "outputs": [
    {
     "data": {
      "text/plain": [
       "array(['USA: WA', 'USA: CA', 'USA: WI', 'USA: MA'], dtype=object)"
      ]
     },
     "execution_count": 145,
     "metadata": {},
     "output_type": "execute_result"
    }
   ],
   "source": [
    "seq_df['Geo_Location'].unique()"
   ]
  },
  {
   "cell_type": "code",
   "execution_count": 146,
   "metadata": {},
   "outputs": [],
   "source": [
    "import seaborn as sns\n",
    "import matplotlib.pyplot as plt\n"
   ]
  },
  {
   "cell_type": "code",
   "execution_count": 148,
   "metadata": {},
   "outputs": [
    {
     "data": {
      "image/png": "[encoded data removed]",
      "text/plain": [
       "<Figure size 6480x1440 with 1 Axes>"
      ]
     },
     "metadata": {
      "needs_background": "light"
     },
     "output_type": "display_data"
    }
   ],
   "source": [
    "plt.figure(figsize=(90,20))\n",
    "plot=sns.countplot(seq_df['Geo_Location'])\n",
    "plot.set_xticklabels(plot.get_xticklabels(),rotation=40, ha=\"right\")\n",
    "plt.show()"
   ]
  },
  {
   "cell_type": "code",
   "execution_count": 149,
   "metadata": {},
   "outputs": [],
   "source": [
    "accession=[]\n",
    "accession=seq_df['Accession']"
   ]
  },
  {
   "cell_type": "code",
   "execution_count": 150,
   "metadata": {},
   "outputs": [
    {
     "data": {
      "text/plain": [
       "14"
      ]
     },
     "execution_count": 150,
     "metadata": {},
     "output_type": "execute_result"
    }
   ],
   "source": [
    "len(accession)"
   ]
  },
  {
   "cell_type": "code",
   "execution_count": 151,
   "metadata": {},
   "outputs": [],
   "source": [
    "from Bio import Entrez"
   ]
  },
  {
   "cell_type": "code",
   "execution_count": 152,
   "metadata": {},
   "outputs": [],
   "source": [
    "Entrez.email = \" pradnyanim18@gmail.com\"\n",
    "refseq_handle = open(\"data/ref_seq.gb\",\"w\")\n",
    "\n",
    "handle= Entrez.efetch(db='nuccore', id='NC_045512', rettype='gb', retmode=\"text\")\n",
    "record= handle.read()\n",
    "refseq_handle.write(record)\n",
    "refseq_handle.close()"
   ]
  },
  {
   "cell_type": "code",
   "execution_count": 153,
   "metadata": {},
   "outputs": [],
   "source": [
    "Entrez.email = \"pradnyanim18@gmail.com\"\n",
    "epost_handle = Entrez.epost(db = \"nuccore\", id=\",\".join(accession))"
   ]
  },
  {
   "cell_type": "code",
   "execution_count": 154,
   "metadata": {},
   "outputs": [
    {
     "data": {
      "text/plain": [
       "{'QueryKey': '1', 'WebEnv': 'MCID_5fd85c8f3197f60f896c50e7'}"
      ]
     },
     "execution_count": 154,
     "metadata": {},
     "output_type": "execute_result"
    }
   ],
   "source": [
    "search_results = Entrez.read(epost_handle)\n",
    "search_results"
   ]
  },
  {
   "cell_type": "code",
   "execution_count": 155,
   "metadata": {},
   "outputs": [],
   "source": [
    "webenv = search_results[\"WebEnv\"]\n",
    "query_key=search_results[\"QueryKey\"]"
   ]
  },
  {
   "cell_type": "code",
   "execution_count": 168,
   "metadata": {},
   "outputs": [
    {
     "name": "stdout",
     "output_type": "stream",
     "text": [
      "Downloading records 1 to 14...\n",
      "All done\n"
     ]
    }
   ],
   "source": [
    "batch_size=50\n",
    "out_handle=open(\"SARS_COV-2_Corona.gb\",\"w\")\n",
    "count=len(accession)\n",
    "\n",
    "for start in range(0, count, batch_size):\n",
    "    end=min(count, start + batch_size)\n",
    "    print(\"Downloading records %i to %i\" % (start + 1, end) + '...')\n",
    "    efetch_handle = Entrez.efetch(\n",
    "            db=\"nuccore\",\n",
    "            rettype=\"gb\",\n",
    "            retmode=\"text\",\n",
    "            retstart=start, \n",
    "            retmax=batch_size,\n",
    "            webenv=webenv,\n",
    "            query_key=query_key,\n",
    "            )\n",
    "    records = efetch_handle.read()\n",
    "    efetch_handle.close()\n",
    "    out_handle.write(records)\n",
    "    \n",
    "out_handle.close()\n",
    "print('All done')"
   ]
  },
  {
   "cell_type": "code",
   "execution_count": 169,
   "metadata": {},
   "outputs": [],
   "source": [
    "from Bio import SeqIO\n",
    "from Bio.SeqRecord import SeqRecord"
   ]
  },
  {
   "cell_type": "code",
   "execution_count": 170,
   "metadata": {},
   "outputs": [],
   "source": [
    "CoV_oro = SeqIO.parse('data/output/SARS_COV-2_Corona.gb', 'genbank')"
   ]
  },
  {
   "cell_type": "code",
   "execution_count": 171,
   "metadata": {},
   "outputs": [
    {
     "data": {
      "text/plain": [
       "<Bio.SeqIO.InsdcIO.GenBankIterator at 0x2cf07256ca0>"
      ]
     },
     "execution_count": 171,
     "metadata": {},
     "output_type": "execute_result"
    }
   ],
   "source": [
    "CoV_oro"
   ]
  },
  {
   "cell_type": "code",
   "execution_count": 172,
   "metadata": {},
   "outputs": [
    {
     "data": {
      "text/plain": [
       "14"
      ]
     },
     "execution_count": 172,
     "metadata": {},
     "output_type": "execute_result"
    }
   ],
   "source": [
    "count = 0\n",
    "\n",
    "for record in CoV_oro:\n",
    "    count+=1\n",
    "count"
   ]
  },
  {
   "cell_type": "code",
   "execution_count": 173,
   "metadata": {},
   "outputs": [
    {
     "data": {
      "text/plain": [
       "SeqRecord(seq=Seq('ATTAAAGGTTTATACCTTCCCAGGTAACAAACCAACCAACTTTCGATCTCTTGT...AAA'), id='NC_045512.2', name='NC_045512', description='Severe acute respiratory syndrome coronavirus 2 isolate Wuhan-Hu-1, complete genome', dbxrefs=['BioProject:PRJNA485481'])"
      ]
     },
     "execution_count": 173,
     "metadata": {},
     "output_type": "execute_result"
    }
   ],
   "source": [
    "ref_seq = SeqIO.read('data/ref_seq.gb', 'genbank')\n",
    "ref_seq"
   ]
  },
  {
   "cell_type": "code",
   "execution_count": 174,
   "metadata": {},
   "outputs": [
    {
     "data": {
      "text/plain": [
       "[SeqFeature(FeatureLocation(ExactPosition(0), ExactPosition(29903), strand=1), type='source'),\n",
       " SeqFeature(FeatureLocation(ExactPosition(0), ExactPosition(265), strand=1), type=\"5'UTR\"),\n",
       " SeqFeature(FeatureLocation(ExactPosition(265), ExactPosition(21555), strand=1), type='gene'),\n",
       " SeqFeature(CompoundLocation([FeatureLocation(ExactPosition(265), ExactPosition(13468), strand=1), FeatureLocation(ExactPosition(13467), ExactPosition(21555), strand=1)], 'join'), type='CDS', location_operator='join'),\n",
       " SeqFeature(FeatureLocation(ExactPosition(265), ExactPosition(805), strand=1), type='mat_peptide'),\n",
       " SeqFeature(FeatureLocation(ExactPosition(805), ExactPosition(2719), strand=1), type='mat_peptide'),\n",
       " SeqFeature(FeatureLocation(ExactPosition(2719), ExactPosition(8554), strand=1), type='mat_peptide'),\n",
       " SeqFeature(FeatureLocation(ExactPosition(8554), ExactPosition(10054), strand=1), type='mat_peptide'),\n",
       " SeqFeature(FeatureLocation(ExactPosition(10054), ExactPosition(10972), strand=1), type='mat_peptide'),\n",
       " SeqFeature(FeatureLocation(ExactPosition(10972), ExactPosition(11842), strand=1), type='mat_peptide'),\n",
       " SeqFeature(FeatureLocation(ExactPosition(11842), ExactPosition(12091), strand=1), type='mat_peptide'),\n",
       " SeqFeature(FeatureLocation(ExactPosition(12091), ExactPosition(12685), strand=1), type='mat_peptide'),\n",
       " SeqFeature(FeatureLocation(ExactPosition(12685), ExactPosition(13024), strand=1), type='mat_peptide'),\n",
       " SeqFeature(FeatureLocation(ExactPosition(13024), ExactPosition(13441), strand=1), type='mat_peptide'),\n",
       " SeqFeature(CompoundLocation([FeatureLocation(ExactPosition(13441), ExactPosition(13468), strand=1), FeatureLocation(ExactPosition(13467), ExactPosition(16236), strand=1)], 'join'), type='mat_peptide', location_operator='join'),\n",
       " SeqFeature(FeatureLocation(ExactPosition(16236), ExactPosition(18039), strand=1), type='mat_peptide'),\n",
       " SeqFeature(FeatureLocation(ExactPosition(18039), ExactPosition(19620), strand=1), type='mat_peptide'),\n",
       " SeqFeature(FeatureLocation(ExactPosition(19620), ExactPosition(20658), strand=1), type='mat_peptide'),\n",
       " SeqFeature(FeatureLocation(ExactPosition(20658), ExactPosition(21552), strand=1), type='mat_peptide'),\n",
       " SeqFeature(FeatureLocation(ExactPosition(265), ExactPosition(13483), strand=1), type='CDS'),\n",
       " SeqFeature(FeatureLocation(ExactPosition(265), ExactPosition(805), strand=1), type='mat_peptide'),\n",
       " SeqFeature(FeatureLocation(ExactPosition(805), ExactPosition(2719), strand=1), type='mat_peptide'),\n",
       " SeqFeature(FeatureLocation(ExactPosition(2719), ExactPosition(8554), strand=1), type='mat_peptide'),\n",
       " SeqFeature(FeatureLocation(ExactPosition(8554), ExactPosition(10054), strand=1), type='mat_peptide'),\n",
       " SeqFeature(FeatureLocation(ExactPosition(10054), ExactPosition(10972), strand=1), type='mat_peptide'),\n",
       " SeqFeature(FeatureLocation(ExactPosition(10972), ExactPosition(11842), strand=1), type='mat_peptide'),\n",
       " SeqFeature(FeatureLocation(ExactPosition(11842), ExactPosition(12091), strand=1), type='mat_peptide'),\n",
       " SeqFeature(FeatureLocation(ExactPosition(12091), ExactPosition(12685), strand=1), type='mat_peptide'),\n",
       " SeqFeature(FeatureLocation(ExactPosition(12685), ExactPosition(13024), strand=1), type='mat_peptide'),\n",
       " SeqFeature(FeatureLocation(ExactPosition(13024), ExactPosition(13441), strand=1), type='mat_peptide'),\n",
       " SeqFeature(FeatureLocation(ExactPosition(13441), ExactPosition(13480), strand=1), type='mat_peptide'),\n",
       " SeqFeature(FeatureLocation(ExactPosition(13475), ExactPosition(13503), strand=1), type='stem_loop'),\n",
       " SeqFeature(FeatureLocation(ExactPosition(13487), ExactPosition(13542), strand=1), type='stem_loop'),\n",
       " SeqFeature(FeatureLocation(ExactPosition(21562), ExactPosition(25384), strand=1), type='gene'),\n",
       " SeqFeature(FeatureLocation(ExactPosition(21562), ExactPosition(25384), strand=1), type='CDS'),\n",
       " SeqFeature(FeatureLocation(ExactPosition(25392), ExactPosition(26220), strand=1), type='gene'),\n",
       " SeqFeature(FeatureLocation(ExactPosition(25392), ExactPosition(26220), strand=1), type='CDS'),\n",
       " SeqFeature(FeatureLocation(ExactPosition(26244), ExactPosition(26472), strand=1), type='gene'),\n",
       " SeqFeature(FeatureLocation(ExactPosition(26244), ExactPosition(26472), strand=1), type='CDS'),\n",
       " SeqFeature(FeatureLocation(ExactPosition(26522), ExactPosition(27191), strand=1), type='gene'),\n",
       " SeqFeature(FeatureLocation(ExactPosition(26522), ExactPosition(27191), strand=1), type='CDS'),\n",
       " SeqFeature(FeatureLocation(ExactPosition(27201), ExactPosition(27387), strand=1), type='gene'),\n",
       " SeqFeature(FeatureLocation(ExactPosition(27201), ExactPosition(27387), strand=1), type='CDS'),\n",
       " SeqFeature(FeatureLocation(ExactPosition(27393), ExactPosition(27759), strand=1), type='gene'),\n",
       " SeqFeature(FeatureLocation(ExactPosition(27393), ExactPosition(27759), strand=1), type='CDS'),\n",
       " SeqFeature(FeatureLocation(ExactPosition(27755), ExactPosition(27887), strand=1), type='gene'),\n",
       " SeqFeature(FeatureLocation(ExactPosition(27755), ExactPosition(27887), strand=1), type='CDS'),\n",
       " SeqFeature(FeatureLocation(ExactPosition(27893), ExactPosition(28259), strand=1), type='gene'),\n",
       " SeqFeature(FeatureLocation(ExactPosition(27893), ExactPosition(28259), strand=1), type='CDS'),\n",
       " SeqFeature(FeatureLocation(ExactPosition(28273), ExactPosition(29533), strand=1), type='gene'),\n",
       " SeqFeature(FeatureLocation(ExactPosition(28273), ExactPosition(29533), strand=1), type='CDS'),\n",
       " SeqFeature(FeatureLocation(ExactPosition(29557), ExactPosition(29674), strand=1), type='gene'),\n",
       " SeqFeature(FeatureLocation(ExactPosition(29557), ExactPosition(29674), strand=1), type='CDS'),\n",
       " SeqFeature(FeatureLocation(ExactPosition(29608), ExactPosition(29644), strand=1), type='stem_loop'),\n",
       " SeqFeature(FeatureLocation(ExactPosition(29628), ExactPosition(29657), strand=1), type='stem_loop'),\n",
       " SeqFeature(FeatureLocation(ExactPosition(29674), ExactPosition(29903), strand=1), type=\"3'UTR\"),\n",
       " SeqFeature(FeatureLocation(ExactPosition(29727), ExactPosition(29768), strand=1), type='stem_loop')]"
      ]
     },
     "execution_count": 174,
     "metadata": {},
     "output_type": "execute_result"
    }
   ],
   "source": [
    "features=ref_seq.features\n",
    "features"
   ]
  },
  {
   "cell_type": "code",
   "execution_count": 175,
   "metadata": {},
   "outputs": [
    {
     "data": {
      "text/plain": [
       "[SeqFeature(FeatureLocation(ExactPosition(265), ExactPosition(21555), strand=1), type='gene'),\n",
       " SeqFeature(FeatureLocation(ExactPosition(21562), ExactPosition(25384), strand=1), type='gene'),\n",
       " SeqFeature(FeatureLocation(ExactPosition(25392), ExactPosition(26220), strand=1), type='gene'),\n",
       " SeqFeature(FeatureLocation(ExactPosition(26244), ExactPosition(26472), strand=1), type='gene'),\n",
       " SeqFeature(FeatureLocation(ExactPosition(26522), ExactPosition(27191), strand=1), type='gene'),\n",
       " SeqFeature(FeatureLocation(ExactPosition(27201), ExactPosition(27387), strand=1), type='gene'),\n",
       " SeqFeature(FeatureLocation(ExactPosition(27393), ExactPosition(27759), strand=1), type='gene'),\n",
       " SeqFeature(FeatureLocation(ExactPosition(27755), ExactPosition(27887), strand=1), type='gene'),\n",
       " SeqFeature(FeatureLocation(ExactPosition(27893), ExactPosition(28259), strand=1), type='gene'),\n",
       " SeqFeature(FeatureLocation(ExactPosition(28273), ExactPosition(29533), strand=1), type='gene'),\n",
       " SeqFeature(FeatureLocation(ExactPosition(29557), ExactPosition(29674), strand=1), type='gene')]"
      ]
     },
     "execution_count": 175,
     "metadata": {},
     "output_type": "execute_result"
    }
   ],
   "source": [
    "\n",
    "features=ref_seq.features\n",
    "\n",
    "features_genes = []\n",
    "\n",
    "for feature in features:\n",
    "    if feature.type =='gene':\n",
    "        features_genes.append(feature)\n",
    "features_genes\n",
    "# for feature in features_genes:\n",
    "#     print(feature.qualifiers['gene'])"
   ]
  },
  {
   "cell_type": "code",
   "execution_count": 176,
   "metadata": {},
   "outputs": [
    {
     "name": "stdout",
     "output_type": "stream",
     "text": [
      "['ORF1ab']\n",
      "['S']\n",
      "['ORF3a']\n",
      "['E']\n",
      "['M']\n",
      "['ORF6']\n",
      "['ORF7a']\n",
      "['ORF7b']\n",
      "['ORF8']\n",
      "['N']\n",
      "['ORF10']\n"
     ]
    }
   ],
   "source": [
    "\n",
    "for feature in features_genes:\n",
    "    print(feature.qualifiers['gene'])"
   ]
  },
  {
   "cell_type": "code",
   "execution_count": 177,
   "metadata": {},
   "outputs": [
    {
     "name": "stdout",
     "output_type": "stream",
     "text": [
      "type: gene\n",
      "location: [21562:25384](+)\n",
      "qualifiers:\n",
      "    Key: db_xref, Value: ['GeneID:43740568']\n",
      "    Key: gene, Value: ['S']\n",
      "    Key: gene_synonym, Value: ['spike glycoprotein']\n",
      "    Key: locus_tag, Value: ['GU280_gp02']\n",
      "\n",
      "The S gene is 3822 bases long\n"
     ]
    }
   ],
   "source": [
    "for gene_feature in features_genes:\n",
    "    if gene_feature.qualifiers['gene']==['S']:\n",
    "        print(gene_feature)\n",
    "        print(\"The S gene is \" + str(len(gene_feature)) + \" bases long\")"
   ]
  },
  {
   "cell_type": "code",
   "execution_count": 178,
   "metadata": {},
   "outputs": [
    {
     "name": "stdout",
     "output_type": "stream",
     "text": [
      "14\n"
     ]
    }
   ],
   "source": [
    "S_reqs = []\n",
    "CoV_oro = SeqIO.parse('data/output/SARS_COV-2_Corona.gb', 'genbank')\n",
    "\n",
    "for record in CoV_oro:\n",
    "    for feature in record.features:\n",
    "        if feature.type == 'gene' and feature.qualifiers['gene'] == ['S']:\n",
    "            new_rec = SeqRecord(seq = feature.extract(record.seq), id = record.id)\n",
    "            S_reqs.append(new_rec)\n",
    "            \n",
    "print(len(S_reqs))"
   ]
  },
  {
   "cell_type": "code",
   "execution_count": 179,
   "metadata": {},
   "outputs": [
    {
     "data": {
      "text/plain": [
       "14"
      ]
     },
     "execution_count": 179,
     "metadata": {},
     "output_type": "execute_result"
    }
   ],
   "source": [
    "SeqIO.write(S_reqs, 'data/output/S/S_oro.fasta','fasta')"
   ]
  },
  {
   "cell_type": "code",
   "execution_count": 180,
   "metadata": {},
   "outputs": [
    {
     "data": {
      "text/plain": [
       "[SeqFeature(FeatureLocation(ExactPosition(265), ExactPosition(805), strand=1), type='mat_peptide'),\n",
       " SeqFeature(FeatureLocation(ExactPosition(805), ExactPosition(2719), strand=1), type='mat_peptide'),\n",
       " SeqFeature(FeatureLocation(ExactPosition(2719), ExactPosition(8554), strand=1), type='mat_peptide'),\n",
       " SeqFeature(FeatureLocation(ExactPosition(8554), ExactPosition(10054), strand=1), type='mat_peptide'),\n",
       " SeqFeature(FeatureLocation(ExactPosition(10054), ExactPosition(10972), strand=1), type='mat_peptide'),\n",
       " SeqFeature(FeatureLocation(ExactPosition(10972), ExactPosition(11842), strand=1), type='mat_peptide'),\n",
       " SeqFeature(FeatureLocation(ExactPosition(11842), ExactPosition(12091), strand=1), type='mat_peptide'),\n",
       " SeqFeature(FeatureLocation(ExactPosition(12091), ExactPosition(12685), strand=1), type='mat_peptide'),\n",
       " SeqFeature(FeatureLocation(ExactPosition(12685), ExactPosition(13024), strand=1), type='mat_peptide'),\n",
       " SeqFeature(FeatureLocation(ExactPosition(13024), ExactPosition(13441), strand=1), type='mat_peptide'),\n",
       " SeqFeature(CompoundLocation([FeatureLocation(ExactPosition(13441), ExactPosition(13468), strand=1), FeatureLocation(ExactPosition(13467), ExactPosition(16236), strand=1)], 'join'), type='mat_peptide', location_operator='join'),\n",
       " SeqFeature(FeatureLocation(ExactPosition(16236), ExactPosition(18039), strand=1), type='mat_peptide'),\n",
       " SeqFeature(FeatureLocation(ExactPosition(18039), ExactPosition(19620), strand=1), type='mat_peptide'),\n",
       " SeqFeature(FeatureLocation(ExactPosition(19620), ExactPosition(20658), strand=1), type='mat_peptide'),\n",
       " SeqFeature(FeatureLocation(ExactPosition(20658), ExactPosition(21552), strand=1), type='mat_peptide'),\n",
       " SeqFeature(FeatureLocation(ExactPosition(265), ExactPosition(805), strand=1), type='mat_peptide'),\n",
       " SeqFeature(FeatureLocation(ExactPosition(805), ExactPosition(2719), strand=1), type='mat_peptide'),\n",
       " SeqFeature(FeatureLocation(ExactPosition(2719), ExactPosition(8554), strand=1), type='mat_peptide'),\n",
       " SeqFeature(FeatureLocation(ExactPosition(8554), ExactPosition(10054), strand=1), type='mat_peptide'),\n",
       " SeqFeature(FeatureLocation(ExactPosition(10054), ExactPosition(10972), strand=1), type='mat_peptide'),\n",
       " SeqFeature(FeatureLocation(ExactPosition(10972), ExactPosition(11842), strand=1), type='mat_peptide'),\n",
       " SeqFeature(FeatureLocation(ExactPosition(11842), ExactPosition(12091), strand=1), type='mat_peptide'),\n",
       " SeqFeature(FeatureLocation(ExactPosition(12091), ExactPosition(12685), strand=1), type='mat_peptide'),\n",
       " SeqFeature(FeatureLocation(ExactPosition(12685), ExactPosition(13024), strand=1), type='mat_peptide'),\n",
       " SeqFeature(FeatureLocation(ExactPosition(13024), ExactPosition(13441), strand=1), type='mat_peptide'),\n",
       " SeqFeature(FeatureLocation(ExactPosition(13441), ExactPosition(13480), strand=1), type='mat_peptide')]"
      ]
     },
     "execution_count": 180,
     "metadata": {},
     "output_type": "execute_result"
    }
   ],
   "source": [
    "featues=ref_seq.features\n",
    "\n",
    "features_mat_peptide = []\n",
    "\n",
    "for feature in features:\n",
    "    if feature.type == 'mat_peptide':\n",
    "        features_mat_peptide.append(feature)\n",
    "        \n",
    "features_mat_peptide"
   ]
  },
  {
   "cell_type": "code",
   "execution_count": 181,
   "metadata": {},
   "outputs": [
    {
     "name": "stdout",
     "output_type": "stream",
     "text": [
      "type: mat_peptide\n",
      "location: [2719:8554](+)\n",
      "qualifiers:\n",
      "    Key: gene, Value: ['ORF1ab']\n",
      "    Key: locus_tag, Value: ['GU280_gp01']\n",
      "    Key: note, Value: [\"former nsp1; conserved domains are: N-terminal acidic (Ac), predicted phosphoesterase, papain-like proteinase, Y-domain, transmembrane domain 1 (TM1), adenosine diphosphate-ribose 1''-phosphatase (ADRP); produced by both pp1a and pp1ab\"]\n",
      "    Key: product, Value: ['nsp3']\n",
      "    Key: protein_id, Value: ['YP_009725299.1']\n",
      "\n",
      "The nsp3 is 5835 bases long\n",
      "type: mat_peptide\n",
      "location: [2719:8554](+)\n",
      "qualifiers:\n",
      "    Key: gene, Value: ['ORF1ab']\n",
      "    Key: locus_tag, Value: ['GU280_gp01']\n",
      "    Key: note, Value: [\"former nsp1; conserved domains are: N-terminal acidic (Ac), predicted phosphoesterase, papain-like proteinase, Y-domain, transmembrane domain 1 (TM1), adenosine diphosphate-ribose 1''-phosphatase (ADRP); produced by both pp1a and pp1ab\"]\n",
      "    Key: product, Value: ['nsp3']\n",
      "    Key: protein_id, Value: ['YP_009742610.1']\n",
      "\n",
      "The nsp3 is 5835 bases long\n"
     ]
    }
   ],
   "source": [
    "for feature in features_mat_peptide:\n",
    "    if feature.type == 'mat_peptide' and feature.qualifiers['product'] == ['nsp3']:\n",
    "        print(feature)\n",
    "        print(\"The nsp3 is \" + str(len(feature))+ \" bases long\")"
   ]
  },
  {
   "cell_type": "code",
   "execution_count": 182,
   "metadata": {},
   "outputs": [
    {
     "name": "stdout",
     "output_type": "stream",
     "text": [
      "2\n"
     ]
    }
   ],
   "source": [
    "ORF1ab_seqs = []\n",
    "CoV_oro = SeqIO.parse('data/output/SARS_COV-2_Corona.gb', 'genbank')\n",
    "mat_peptide_list = []\n",
    "\n",
    "for record in CoV_oro:\n",
    "    for feature in record.features:\n",
    "        if feature.type == 'mat_peptide' and feature.qualifiers['product'] == ['nsp3']:\n",
    "            if record.id not in mat_peptide_list:\n",
    "                mat_peptide_list.append(record.id)\n",
    "                new_rec = SeqRecord(seq = feature.extract(record.seq), id = record.id)\n",
    "                ORF1ab_seqs.append(new_rec)\n",
    "        \n",
    "print(len(ORF1ab_seqs))"
   ]
  },
  {
   "cell_type": "code",
   "execution_count": 183,
   "metadata": {},
   "outputs": [
    {
     "data": {
      "text/plain": [
       "2"
      ]
     },
     "execution_count": 183,
     "metadata": {},
     "output_type": "execute_result"
    }
   ],
   "source": [
    "SeqIO.write(ORF1ab_seqs,'data/output/ORF1ab/ORF1ab_oro.fasta','fasta')"
   ]
  },
  {
   "cell_type": "code",
   "execution_count": 187,
   "metadata": {},
   "outputs": [],
   "source": [
    "from Bio import AlignIO\n",
    "from Bio.Align import AlignInfo"
   ]
  },
  {
   "cell_type": "code",
   "execution_count": 189,
   "metadata": {},
   "outputs": [],
   "source": [
    "S_oro=AlignIO.read('data/output/alignments/clustalo-I20201215-014736-0534-48007114-p2m.clustal_num', 'clustal')\n",
    "S_oro_summary_align = AlignInfo.SummaryInfo(S_oro)"
   ]
  },
  {
   "cell_type": "code",
   "execution_count": 190,
   "metadata": {},
   "outputs": [
    {
     "data": {
      "text/plain": [
       "Seq('ATGTTTGTTTTTCTTGTTTTATTGCCACTAGTCTCTAGTCAGTGTGTTAATCTT...TAA')"
      ]
     },
     "execution_count": 190,
     "metadata": {},
     "output_type": "execute_result"
    }
   ],
   "source": [
    "S_oro_summary_align.dumb_consensus()"
   ]
  },
  {
   "cell_type": "code",
   "execution_count": 192,
   "metadata": {
    "scrolled": true
   },
   "outputs": [
    {
     "name": "stdout",
     "output_type": "stream",
     "text": [
      "Collecting scikit-bio\n",
      "  Downloading scikit-bio-0.5.6.tar.gz (8.4 MB)\n",
      "Collecting lockfile>=0.10.2\n",
      "  Downloading lockfile-0.12.2-py2.py3-none-any.whl (13 kB)\n",
      "Collecting CacheControl>=0.11.5\n",
      "  Downloading CacheControl-0.12.6-py2.py3-none-any.whl (19 kB)\n",
      "Requirement already satisfied: decorator>=3.4.2 in c:\\anaconda3\\lib\\site-packages (from scikit-bio) (4.4.2)\n",
      "Requirement already satisfied: IPython>=3.2.0 in c:\\anaconda3\\lib\\site-packages (from scikit-bio) (7.16.1)\n",
      "Requirement already satisfied: matplotlib>=1.4.3 in c:\\anaconda3\\lib\\site-packages (from scikit-bio) (3.2.2)\n",
      "Collecting natsort>=4.0.3\n",
      "  Downloading natsort-7.1.0-py3-none-any.whl (35 kB)\n",
      "Requirement already satisfied: numpy>=1.9.2 in c:\\anaconda3\\lib\\site-packages (from scikit-bio) (1.18.5)\n",
      "Requirement already satisfied: pandas>=1.0.0 in c:\\anaconda3\\lib\\site-packages (from scikit-bio) (1.0.5)\n",
      "Requirement already satisfied: scipy>=1.3.0 in c:\\anaconda3\\lib\\site-packages (from scikit-bio) (1.5.0)\n",
      "Collecting hdmedians>=0.13\n",
      "  Downloading hdmedians-0.14.1.tar.gz (7.6 kB)\n",
      "  Installing build dependencies: started\n",
      "  Installing build dependencies: finished with status 'done'\n",
      "  Getting requirements to build wheel: started\n",
      "  Getting requirements to build wheel: finished with status 'done'\n",
      "  Installing backend dependencies: started\n",
      "  Installing backend dependencies: finished with status 'done'\n",
      "    Preparing wheel metadata: started\n",
      "    Preparing wheel metadata: finished with status 'done'\n",
      "Requirement already satisfied: scikit-learn>=0.19.1 in c:\\anaconda3\\lib\\site-packages (from scikit-bio) (0.23.1)\n",
      "Requirement already satisfied: requests in c:\\anaconda3\\lib\\site-packages (from CacheControl>=0.11.5->scikit-bio) (2.24.0)\n",
      "Requirement already satisfied: msgpack>=0.5.2 in c:\\anaconda3\\lib\\site-packages (from CacheControl>=0.11.5->scikit-bio) (1.0.0)\n",
      "Requirement already satisfied: backcall in c:\\anaconda3\\lib\\site-packages (from IPython>=3.2.0->scikit-bio) (0.2.0)\n",
      "Requirement already satisfied: pickleshare in c:\\anaconda3\\lib\\site-packages (from IPython>=3.2.0->scikit-bio) (0.7.5)\n",
      "Requirement already satisfied: traitlets>=4.2 in c:\\anaconda3\\lib\\site-packages (from IPython>=3.2.0->scikit-bio) (4.3.3)\n",
      "Requirement already satisfied: pygments in c:\\anaconda3\\lib\\site-packages (from IPython>=3.2.0->scikit-bio) (2.6.1)\n",
      "Requirement already satisfied: setuptools>=18.5 in c:\\anaconda3\\lib\\site-packages (from IPython>=3.2.0->scikit-bio) (49.2.0.post20200714)\n",
      "Requirement already satisfied: colorama; sys_platform == \"win32\" in c:\\users\\pratik\\appdata\\roaming\\python\\python38\\site-packages (from IPython>=3.2.0->scikit-bio) (0.4.3)\n",
      "Requirement already satisfied: jedi>=0.10 in c:\\anaconda3\\lib\\site-packages (from IPython>=3.2.0->scikit-bio) (0.17.1)\n",
      "Requirement already satisfied: prompt-toolkit!=3.0.0,!=3.0.1,<3.1.0,>=2.0.0 in c:\\anaconda3\\lib\\site-packages (from IPython>=3.2.0->scikit-bio) (3.0.5)\n",
      "Requirement already satisfied: kiwisolver>=1.0.1 in c:\\anaconda3\\lib\\site-packages (from matplotlib>=1.4.3->scikit-bio) (1.2.0)\n",
      "Requirement already satisfied: python-dateutil>=2.1 in c:\\anaconda3\\lib\\site-packages (from matplotlib>=1.4.3->scikit-bio) (2.8.1)\n",
      "Requirement already satisfied: pyparsing!=2.0.4,!=2.1.2,!=2.1.6,>=2.0.1 in c:\\anaconda3\\lib\\site-packages (from matplotlib>=1.4.3->scikit-bio) (2.4.7)\n",
      "Requirement already satisfied: cycler>=0.10 in c:\\anaconda3\\lib\\site-packages (from matplotlib>=1.4.3->scikit-bio) (0.10.0)\n",
      "Requirement already satisfied: pytz>=2017.2 in c:\\anaconda3\\lib\\site-packages (from pandas>=1.0.0->scikit-bio) (2020.1)\n",
      "Requirement already satisfied: Cython>=0.23 in c:\\anaconda3\\lib\\site-packages (from hdmedians>=0.13->scikit-bio) (0.29.21)\n",
      "Requirement already satisfied: threadpoolctl>=2.0.0 in c:\\anaconda3\\lib\\site-packages (from scikit-learn>=0.19.1->scikit-bio) (2.1.0)\n",
      "Requirement already satisfied: joblib>=0.11 in c:\\anaconda3\\lib\\site-packages (from scikit-learn>=0.19.1->scikit-bio) (0.16.0)\n",
      "Requirement already satisfied: urllib3!=1.25.0,!=1.25.1,<1.26,>=1.21.1 in c:\\anaconda3\\lib\\site-packages (from requests->CacheControl>=0.11.5->scikit-bio) (1.25.9)\n",
      "Requirement already satisfied: chardet<4,>=3.0.2 in c:\\anaconda3\\lib\\site-packages (from requests->CacheControl>=0.11.5->scikit-bio) (3.0.4)\n",
      "Requirement already satisfied: certifi>=2017.4.17 in c:\\anaconda3\\lib\\site-packages (from requests->CacheControl>=0.11.5->scikit-bio) (2020.6.20)\n",
      "Requirement already satisfied: idna<3,>=2.5 in c:\\anaconda3\\lib\\site-packages (from requests->CacheControl>=0.11.5->scikit-bio) (2.10)\n",
      "Requirement already satisfied: ipython-genutils in c:\\anaconda3\\lib\\site-packages (from traitlets>=4.2->IPython>=3.2.0->scikit-bio) (0.2.0)\n",
      "Requirement already satisfied: six in c:\\users\\pratik\\appdata\\roaming\\python\\python38\\site-packages (from traitlets>=4.2->IPython>=3.2.0->scikit-bio) (1.14.0)\n",
      "Requirement already satisfied: parso<0.8.0,>=0.7.0 in c:\\anaconda3\\lib\\site-packages (from jedi>=0.10->IPython>=3.2.0->scikit-bio) (0.7.0)\n",
      "Requirement already satisfied: wcwidth in c:\\users\\pratik\\appdata\\roaming\\python\\python38\\site-packages (from prompt-toolkit!=3.0.0,!=3.0.1,<3.1.0,>=2.0.0->IPython>=3.2.0->scikit-bio) (0.1.9)\n",
      "Building wheels for collected packages: scikit-bio, hdmedians\n",
      "  Building wheel for scikit-bio (setup.py): started\n",
      "  Building wheel for scikit-bio (setup.py): finished with status 'done'\n",
      "  Created wheel for scikit-bio: filename=scikit_bio-0.5.6-cp38-cp38-win_amd64.whl size=1040245 sha256=75531ac0f3fce6f124627f44068ee0575c40665d25a3a518b602ad999c61911d\n",
      "  Stored in directory: c:\\users\\pratik\\appdata\\local\\pip\\cache\\wheels\\12\\98\\31\\91f76b847b1abdcca8763a3e180b9c820e8086493b60919ffa\n",
      "  Building wheel for hdmedians (PEP 517): started\n",
      "  Building wheel for hdmedians (PEP 517): finished with status 'done'\n",
      "  Created wheel for hdmedians: filename=hdmedians-0.14.1-cp38-cp38-win_amd64.whl size=113940 sha256=dfdbcd887d9b73cdc3c6116032fdaf51353d75a94e112fe33b4e69af274df05d\n",
      "  Stored in directory: c:\\users\\pratik\\appdata\\local\\pip\\cache\\wheels\\15\\ed\\b6\\a1349234275bbd53f549e82a95078b08142988765074fedb90\n",
      "Successfully built scikit-bio hdmedians\n",
      "Installing collected packages: lockfile, CacheControl, natsort, hdmedians, scikit-bio\n",
      "Successfully installed CacheControl-0.12.6 hdmedians-0.14.1 lockfile-0.12.2 natsort-7.1.0 scikit-bio-0.5.6\n",
      "Note: you may need to restart the kernel to use updated packages.\n"
     ]
    }
   ],
   "source": [
    "pip install scikit-bio"
   ]
  },
  {
   "cell_type": "code",
   "execution_count": 193,
   "metadata": {},
   "outputs": [
    {
     "data": {
      "text/plain": [
       "TabularMSA[DNA]\n",
       "-----------------------------------------------------------------------\n",
       "Stats:\n",
       "    sequence count: 14\n",
       "    position count: 3822\n",
       "-----------------------------------------------------------------------\n",
       "ATGTTTGTTTTTCTTGTTTTATTGCCACTAGTC ... GTGCTCAAAGGAGTCAAATTACATTACACATAA\n",
       "ATGTTTGTTTTTCTTGTTTTATTGCCACTAGTC ... GTGCTCAAAGGAGTCAAATTACATTACACATAA\n",
       "...\n",
       "ATGTTTGTTTTTCTTGTTTTATTGCCACTAGTC ... GTGCTCAAAGGAGTCAAATTACATTACACATAA\n",
       "ATGTTTGTTTTTCTTGTTTTATTGCCACTAGTC ... GTGCTCAAAGGAGTCAAATTACATTACACATAA"
      ]
     },
     "execution_count": 193,
     "metadata": {},
     "output_type": "execute_result"
    }
   ],
   "source": [
    "from skbio import DNA, TabularMSA\n",
    "\n",
    "S_oro_align = AlignIO.convert('data/output/alignments/clustalo-I20201215-014736-0534-48007114-p2m.clustal_num', 'clustal','data/output/alignments/clustalo-I20201215-014736-0534-48007114-p2m.fasta','fasta' )\n",
    "S_oro_align_MSA = TabularMSA.read('data/output/alignments/clustalo-I20201215-014736-0534-48007114-p2m.fasta',format='fasta', constructor=DNA)\n",
    "\n",
    "S_oro_align_MSA.reassign_index(minter='id')\n",
    "S_oro_align_MSA"
   ]
  },
  {
   "cell_type": "code",
   "execution_count": 194,
   "metadata": {},
   "outputs": [
    {
     "data": {
      "text/plain": [
       "array([1., 1., 1., ..., 1., 1., 1.])"
      ]
     },
     "execution_count": 194,
     "metadata": {},
     "output_type": "execute_result"
    }
   ],
   "source": [
    "S_oro_conserved_array = S_oro_align_MSA.conservation(degenerate_mode = 'nan', gap_mode = 'include')\n",
    "S_oro_conserved_array"
   ]
  },
  {
   "cell_type": "code",
   "execution_count": 195,
   "metadata": {},
   "outputs": [
    {
     "data": {
      "text/plain": [
       "3819"
      ]
     },
     "execution_count": 195,
     "metadata": {},
     "output_type": "execute_result"
    }
   ],
   "source": [
    "S_oro_total_conserved = (S_oro_conserved_array==1).sum()\n",
    "S_oro_total_conserved"
   ]
  },
  {
   "cell_type": "code",
   "execution_count": 196,
   "metadata": {},
   "outputs": [
    {
     "data": {
      "text/plain": [
       "0.9992150706436421"
      ]
     },
     "execution_count": 196,
     "metadata": {},
     "output_type": "execute_result"
    }
   ],
   "source": [
    "S_oro_total_conserved/(len(S_oro_conserved_array))"
   ]
  },
  {
   "cell_type": "code",
   "execution_count": 201,
   "metadata": {},
   "outputs": [
    {
     "data": {
      "text/html": [
       "<div>\n",
       "<style scoped>\n",
       "    .dataframe tbody tr th:only-of-type {\n",
       "        vertical-align: middle;\n",
       "    }\n",
       "\n",
       "    .dataframe tbody tr th {\n",
       "        vertical-align: top;\n",
       "    }\n",
       "\n",
       "    .dataframe thead th {\n",
       "        text-align: right;\n",
       "    }\n",
       "</style>\n",
       "<table border=\"1\" class=\"dataframe\">\n",
       "  <thead>\n",
       "    <tr style=\"text-align: right;\">\n",
       "      <th></th>\n",
       "      <th>consesnsus base</th>\n",
       "    </tr>\n",
       "  </thead>\n",
       "  <tbody>\n",
       "    <tr>\n",
       "      <th>0</th>\n",
       "      <td>A</td>\n",
       "    </tr>\n",
       "    <tr>\n",
       "      <th>1</th>\n",
       "      <td>T</td>\n",
       "    </tr>\n",
       "    <tr>\n",
       "      <th>2</th>\n",
       "      <td>G</td>\n",
       "    </tr>\n",
       "    <tr>\n",
       "      <th>3</th>\n",
       "      <td>T</td>\n",
       "    </tr>\n",
       "    <tr>\n",
       "      <th>4</th>\n",
       "      <td>T</td>\n",
       "    </tr>\n",
       "    <tr>\n",
       "      <th>...</th>\n",
       "      <td>...</td>\n",
       "    </tr>\n",
       "    <tr>\n",
       "      <th>3817</th>\n",
       "      <td>C</td>\n",
       "    </tr>\n",
       "    <tr>\n",
       "      <th>3818</th>\n",
       "      <td>A</td>\n",
       "    </tr>\n",
       "    <tr>\n",
       "      <th>3819</th>\n",
       "      <td>T</td>\n",
       "    </tr>\n",
       "    <tr>\n",
       "      <th>3820</th>\n",
       "      <td>A</td>\n",
       "    </tr>\n",
       "    <tr>\n",
       "      <th>3821</th>\n",
       "      <td>A</td>\n",
       "    </tr>\n",
       "  </tbody>\n",
       "</table>\n",
       "<p>3822 rows × 1 columns</p>\n",
       "</div>"
      ],
      "text/plain": [
       "     consesnsus base\n",
       "0                  A\n",
       "1                  T\n",
       "2                  G\n",
       "3                  T\n",
       "4                  T\n",
       "...              ...\n",
       "3817               C\n",
       "3818               A\n",
       "3819               T\n",
       "3820               A\n",
       "3821               A\n",
       "\n",
       "[3822 rows x 1 columns]"
      ]
     },
     "execution_count": 201,
     "metadata": {},
     "output_type": "execute_result"
    }
   ],
   "source": [
    "consensus_arr = np.array(list(str(S_oro_summary_align.dumb_consensus())))\n",
    "S_oro_df = pd.DataFrame(data=consensus_arr, columns=['consesnsus base'])\n",
    "S_oro_df"
   ]
  }
 ],
 "metadata": {
  "kernelspec": {
   "display_name": "Python 3",
   "language": "python",
   "name": "python3"
  },
  "language_info": {
   "codemirror_mode": {
    "name": "ipython",
    "version": 3
   },
   "file_extension": ".py",
   "mimetype": "text/x-python",
   "name": "python",
   "nbconvert_exporter": "python",
   "pygments_lexer": "ipython3",
   "version": "3.8.3"
  }
 },
 "nbformat": 4,
 "nbformat_minor": 4
}
